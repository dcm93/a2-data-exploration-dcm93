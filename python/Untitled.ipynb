{
 "cells": [
  {
   "cell_type": "code",
   "execution_count": 42,
   "metadata": {
    "collapsed": true
   },
   "outputs": [],
   "source": [
    "import pandas as pd"
   ]
  },
  {
   "cell_type": "code",
   "execution_count": 43,
   "metadata": {
    "collapsed": false
   },
   "outputs": [],
   "source": [
    "beers = pd.read_csv('../data/beers.csv')\n",
    "beers['ibu'].fillna(-1, inplace=True)\n",
    "beers['abv'].fillna(-1, inplace=True)"
   ]
  },
  {
   "cell_type": "code",
   "execution_count": 44,
   "metadata": {
    "collapsed": false
   },
   "outputs": [],
   "source": [
    "beers_ibu = beers[(beers['ibu'] != -1) & (beers['abv'] !=-1)]\n",
    "beers_final = beers_ibu.drop_duplicates(subset='name')"
   ]
  },
  {
   "cell_type": "code",
   "execution_count": 45,
   "metadata": {
    "collapsed": true
   },
   "outputs": [],
   "source": [
    "def strip(text):\n",
    "    try:\n",
    "        return text.strip()\n",
    "    except AttributeError:\n",
    "        return text"
   ]
  },
  {
   "cell_type": "code",
   "execution_count": 46,
   "metadata": {
    "collapsed": false
   },
   "outputs": [],
   "source": [
    "breweries = pd.read_csv('../data/breweries1.csv', converters={'state':strip})"
   ]
  },
  {
   "cell_type": "code",
   "execution_count": 47,
   "metadata": {
    "collapsed": false
   },
   "outputs": [],
   "source": [
    " def defineRegion(row):\n",
    "        key = row['state']\n",
    "        if key == 'AK' or key == 'AZ' or key == 'CO' or key == 'ID' or key == 'MT' or key == 'WY' or key == 'OR' or key == 'WA' or key == 'CA' or key == 'NV' or key == 'UT' or key == 'NM':\n",
    "            return 'west'\n",
    "        elif key == 'ND' or key == 'SD' or key == 'NE' or key == 'KS' or key == 'MN' or key == 'IA' or key == 'MO' or key == 'WI' or key == 'MI' or key == 'OH' or key == 'IN':\n",
    "            return 'midwest'\n",
    "        elif key == 'CT' or key == 'ME' or key == 'MA' or key == 'NH' or key == 'RI' or key == 'VT' or key == 'NY' or key == 'NJ' or key == 'PA':\n",
    "            return 'northeast'\n",
    "        else :\n",
    "            return 'south'"
   ]
  },
  {
   "cell_type": "code",
   "execution_count": 48,
   "metadata": {
    "collapsed": false
   },
   "outputs": [],
   "source": [
    "breweries['region'] = breweries.apply(defineRegion,axis=1)"
   ]
  },
  {
   "cell_type": "code",
   "execution_count": 49,
   "metadata": {
    "collapsed": false
   },
   "outputs": [],
   "source": [
    "final = pd.merge(beers_final, breweries, on='brewery_id')"
   ]
  },
  {
   "cell_type": "code",
   "execution_count": 50,
   "metadata": {
    "collapsed": false
   },
   "outputs": [],
   "source": [
    "final.to_csv('merged_beers.csv')"
   ]
  }
 ],
 "metadata": {
  "kernelspec": {
   "display_name": "Python 3",
   "language": "python",
   "name": "python3"
  },
  "language_info": {
   "codemirror_mode": {
    "name": "ipython",
    "version": 3
   },
   "file_extension": ".py",
   "mimetype": "text/x-python",
   "name": "python",
   "nbconvert_exporter": "python",
   "pygments_lexer": "ipython3",
   "version": "3.6.0"
  }
 },
 "nbformat": 4,
 "nbformat_minor": 2
}
